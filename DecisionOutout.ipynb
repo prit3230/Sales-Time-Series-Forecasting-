{
 "cells": [
  {
   "cell_type": "markdown",
   "id": "8adba16c-7d57-4e27-aebf-5668494658ae",
   "metadata": {},
   "source": [
    "# **INFERENCES**"
   ]
  },
  {
   "cell_type": "code",
   "execution_count": 3,
   "id": "a8dbe725-122c-43ee-a2aa-1e062b32abee",
   "metadata": {
    "tags": []
   },
   "outputs": [
    {
     "name": "stdout",
     "output_type": "stream",
     "text": [
      "Linear Regression RMSE: 4237.574425436905\n",
      "Random Forest Regression RMSE: 2228.895731223069\n",
      "Random Forest Regression model performs better. Implementing its recommendations.\n"
     ]
    },
    {
     "name": "stderr",
     "output_type": "stream",
     "text": [
      "C:\\Users\\Suraj\\AppData\\Local\\Programs\\Python\\Python311\\Lib\\site-packages\\sklearn\\metrics\\_regression.py:483: FutureWarning: 'squared' is deprecated in version 1.4 and will be removed in 1.6. To calculate the root mean squared error, use the function'root_mean_squared_error'.\n",
      "  warnings.warn(\n",
      "C:\\Users\\Suraj\\AppData\\Local\\Programs\\Python\\Python311\\Lib\\site-packages\\sklearn\\metrics\\_regression.py:483: FutureWarning: 'squared' is deprecated in version 1.4 and will be removed in 1.6. To calculate the root mean squared error, use the function'root_mean_squared_error'.\n",
      "  warnings.warn(\n"
     ]
    }
   ],
   "source": [
    "import pandas as pd\n",
    "from sklearn.model_selection import train_test_split\n",
    "from sklearn.linear_model import LinearRegression\n",
    "from sklearn.ensemble import RandomForestRegressor\n",
    "from sklearn.metrics import mean_squared_error\n",
    "\n",
    "# Read data into variable named dtd\n",
    "dtd = pd.read_csv('mydata.csv')\n",
    "\n",
    "# Preprocess data (e.g., handle missing values, feature engineering, etc.)\n",
    "# ...\n",
    "\n",
    "# Split data into features (X) and target (y)\n",
    "X = dtd.drop(columns=['Weekly_Sales'])\n",
    "y = dtd['Weekly_Sales']\n",
    "\n",
    "# Train-test split\n",
    "X_train, X_test, y_train, y_test = train_test_split(X, y, test_size=0.2, random_state=42)\n",
    "\n",
    "# Train Linear Regression model\n",
    "linear_model = LinearRegression()\n",
    "linear_model.fit(X_train, y_train)\n",
    "\n",
    "# Train Random Forest Regression model\n",
    "rf_model = RandomForestRegressor(n_estimators=100)\n",
    "rf_model.fit(X_train, y_train)\n",
    "\n",
    "# Predict sales using trained models\n",
    "linear_sales_pred = linear_model.predict(X_test)\n",
    "rf_sales_pred = rf_model.predict(X_test)\n",
    "\n",
    "# Evaluate model performance\n",
    "linear_rmse = mean_squared_error(y_test, linear_sales_pred, squared=False)\n",
    "rf_rmse = mean_squared_error(y_test, rf_sales_pred, squared=False)\n",
    "\n",
    "# Compare model performance\n",
    "print(\"Linear Regression RMSE:\", linear_rmse)\n",
    "print(\"Random Forest Regression RMSE:\", rf_rmse)\n",
    "\n",
    "# Make decision based on model performance\n",
    "if linear_rmse < rf_rmse:\n",
    "    print(\"Linear Regression model performs better. Implementing its recommendations.\")\n",
    "    # Implement strategies based on Linear Regression model's predictions\n",
    "else:\n",
    "    print(\"Random Forest Regression model performs better. Implementing its recommendations.\")\n",
    "    # Implement strategies based on Random Forest Regression model's predictions\n"
   ]
  },
  {
   "cell_type": "code",
   "execution_count": 4,
   "id": "e9bb24e4-f68a-47ff-9534-bdfe4eb860b4",
   "metadata": {
    "tags": []
   },
   "outputs": [
    {
     "name": "stdout",
     "output_type": "stream",
     "text": [
      "Root Mean Squared Error (RMSE): 2230.7627620354915\n",
      "The model performance is not acceptable. Retrain the model or consider alternative approaches.\n"
     ]
    },
    {
     "name": "stderr",
     "output_type": "stream",
     "text": [
      "C:\\Users\\Suraj\\AppData\\Local\\Programs\\Python\\Python311\\Lib\\site-packages\\sklearn\\metrics\\_regression.py:483: FutureWarning: 'squared' is deprecated in version 1.4 and will be removed in 1.6. To calculate the root mean squared error, use the function'root_mean_squared_error'.\n",
      "  warnings.warn(\n"
     ]
    }
   ],
   "source": [
    "\n",
    "# Train Random Forest Regression model\n",
    "rf_model = RandomForestRegressor(n_estimators=100)\n",
    "rf_model.fit(X_train, y_train)\n",
    "\n",
    "# Predict sales using trained model\n",
    "sales_pred = rf_model.predict(X_test)\n",
    "\n",
    "# Evaluate model performance\n",
    "rmse = mean_squared_error(y_test, sales_pred, squared=False)\n",
    "print(\"Root Mean Squared Error (RMSE):\", rmse)\n",
    "\n",
    "# Make decision based on model performance\n",
    "if rmse < 1000:\n",
    "    print(\"The model performance is acceptable.\")\n",
    "    # Implement strategies based on model predictions\n",
    "else:\n",
    "    print(\"The model performance is not acceptable. Retrain the model or consider alternative approaches.\")\n",
    "    # Retrain the model with additional data or features, or explore other modeling techniques\n"
   ]
  },
  {
   "cell_type": "markdown",
   "id": "a7b8efc6-c570-466e-87b5-46ecac96309e",
   "metadata": {},
   "source": [
    "## **Optimal Inventory Level**"
   ]
  },
  {
   "cell_type": "code",
   "execution_count": 7,
   "id": "899726a3-d2c2-4abf-a205-124cd61b495b",
   "metadata": {
    "tags": []
   },
   "outputs": [
    {
     "name": "stdout",
     "output_type": "stream",
     "text": [
      "Root Mean Squared Error (RMSE): 2230.7627620354915\n",
      "Store ID: 26, Optimal Inventory Level: 19922\n",
      "Store ID: 10, Optimal Inventory Level: 2031\n",
      "Store ID: 3, Optimal Inventory Level: 20980\n",
      "Store ID: 30, Optimal Inventory Level: 136\n",
      "Store ID: 34, Optimal Inventory Level: 12945\n",
      "Store ID: 6, Optimal Inventory Level: 53881\n",
      "Store ID: 17, Optimal Inventory Level: 1774\n",
      "Store ID: 5, Optimal Inventory Level: 1066\n",
      "Store ID: 44, Optimal Inventory Level: 5341\n",
      "Store ID: 13, Optimal Inventory Level: 5992\n",
      "Store ID: 4, Optimal Inventory Level: 1565\n",
      "Store ID: 19, Optimal Inventory Level: 79271\n",
      "Store ID: 7, Optimal Inventory Level: 445\n",
      "Store ID: 36, Optimal Inventory Level: 1096\n",
      "Store ID: 18, Optimal Inventory Level: 24858\n",
      "Store ID: 16, Optimal Inventory Level: 9627\n",
      "Store ID: 14, Optimal Inventory Level: 33069\n",
      "Store ID: 37, Optimal Inventory Level: 6170\n",
      "Store ID: 35, Optimal Inventory Level: 15881\n",
      "Store ID: 22, Optimal Inventory Level: 2526\n",
      "Store ID: 21, Optimal Inventory Level: 19512\n",
      "Store ID: 43, Optimal Inventory Level: 30\n",
      "Store ID: 15, Optimal Inventory Level: 10467\n",
      "Store ID: 12, Optimal Inventory Level: 17337\n",
      "Store ID: 40, Optimal Inventory Level: 85\n",
      "Store ID: 33, Optimal Inventory Level: 206\n",
      "Store ID: 45, Optimal Inventory Level: 2746\n",
      "Store ID: 38, Optimal Inventory Level: 6203\n",
      "Store ID: 41, Optimal Inventory Level: 22589\n",
      "Store ID: 2, Optimal Inventory Level: 54326\n",
      "Store ID: 24, Optimal Inventory Level: 22683\n",
      "Store ID: 11, Optimal Inventory Level: 9339\n",
      "Store ID: 32, Optimal Inventory Level: 56104\n",
      "Store ID: 8, Optimal Inventory Level: 11082\n",
      "Store ID: 9, Optimal Inventory Level: 6538\n",
      "Store ID: 23, Optimal Inventory Level: 44796\n",
      "Store ID: 29, Optimal Inventory Level: 239\n",
      "Store ID: 25, Optimal Inventory Level: 13953\n",
      "Store ID: 20, Optimal Inventory Level: 60831\n",
      "Store ID: 27, Optimal Inventory Level: 15453\n",
      "Store ID: 42, Optimal Inventory Level: 589\n",
      "Store ID: 39, Optimal Inventory Level: 63629\n",
      "Store ID: 1, Optimal Inventory Level: 4995\n",
      "Store ID: 31, Optimal Inventory Level: 4452\n",
      "Store ID: 28, Optimal Inventory Level: 38272\n"
     ]
    },
    {
     "name": "stderr",
     "output_type": "stream",
     "text": [
      "C:\\Users\\Suraj\\AppData\\Local\\Programs\\Python\\Python311\\Lib\\site-packages\\sklearn\\metrics\\_regression.py:483: FutureWarning: 'squared' is deprecated in version 1.4 and will be removed in 1.6. To calculate the root mean squared error, use the function'root_mean_squared_error'.\n",
      "  warnings.warn(\n"
     ]
    }
   ],
   "source": [
    "\n",
    "# Predict sales using trained model\n",
    "sales_pred = rf_model.predict(X_test)\n",
    "\n",
    "# Evaluate model performance\n",
    "rmse = mean_squared_error(y_test, sales_pred, squared=False)\n",
    "print(\"Root Mean Squared Error (RMSE):\", rmse)\n",
    "\n",
    "# Determine optimal inventory levels based on sales predictions\n",
    "optimal_inventory = {}\n",
    "for product_id, sales_prediction in zip(X_test['Store'], sales_pred):\n",
    "    optimal_inventory[product_id] = int(sales_prediction * 1.2)  # Set inventory level to 120% of predicted sales\n",
    "\n",
    "# Print optimal inventory levels for each product\n",
    "for product_id, inventory_level in optimal_inventory.items():\n",
    "    print(f\"Store ID: {product_id}, Optimal Inventory Level: {inventory_level}\")\n"
   ]
  },
  {
   "cell_type": "markdown",
   "id": "64fae2e9-2826-45f3-9877-f06a9ee87016",
   "metadata": {},
   "source": [
    "## **Optimal Promotion Strategy**"
   ]
  },
  {
   "cell_type": "code",
   "execution_count": 8,
   "id": "ac46e96a-0a8f-4916-8310-2bf8072259c7",
   "metadata": {
    "tags": []
   },
   "outputs": [
    {
     "name": "stdout",
     "output_type": "stream",
     "text": [
      "Store ID: 26, Optimal Promotion Strategy: Run a promotion\n",
      "Store ID: 10, Optimal Promotion Strategy: Focus on other strategies\n",
      "Store ID: 3, Optimal Promotion Strategy: Run a promotion\n",
      "Store ID: 30, Optimal Promotion Strategy: Focus on other strategies\n",
      "Store ID: 34, Optimal Promotion Strategy: Run a promotion\n",
      "Store ID: 6, Optimal Promotion Strategy: Run a promotion\n",
      "Store ID: 17, Optimal Promotion Strategy: Focus on other strategies\n",
      "Store ID: 5, Optimal Promotion Strategy: Focus on other strategies\n",
      "Store ID: 44, Optimal Promotion Strategy: Focus on other strategies\n",
      "Store ID: 13, Optimal Promotion Strategy: Focus on other strategies\n",
      "Store ID: 4, Optimal Promotion Strategy: Focus on other strategies\n",
      "Store ID: 19, Optimal Promotion Strategy: Run a promotion\n",
      "Store ID: 7, Optimal Promotion Strategy: Focus on other strategies\n",
      "Store ID: 36, Optimal Promotion Strategy: Focus on other strategies\n",
      "Store ID: 18, Optimal Promotion Strategy: Run a promotion\n",
      "Store ID: 16, Optimal Promotion Strategy: Focus on other strategies\n",
      "Store ID: 14, Optimal Promotion Strategy: Run a promotion\n",
      "Store ID: 37, Optimal Promotion Strategy: Focus on other strategies\n",
      "Store ID: 35, Optimal Promotion Strategy: Run a promotion\n",
      "Store ID: 22, Optimal Promotion Strategy: Focus on other strategies\n",
      "Store ID: 21, Optimal Promotion Strategy: Run a promotion\n",
      "Store ID: 43, Optimal Promotion Strategy: Focus on other strategies\n",
      "Store ID: 15, Optimal Promotion Strategy: Focus on other strategies\n",
      "Store ID: 12, Optimal Promotion Strategy: Run a promotion\n",
      "Store ID: 40, Optimal Promotion Strategy: Focus on other strategies\n",
      "Store ID: 33, Optimal Promotion Strategy: Focus on other strategies\n",
      "Store ID: 45, Optimal Promotion Strategy: Focus on other strategies\n",
      "Store ID: 38, Optimal Promotion Strategy: Focus on other strategies\n",
      "Store ID: 41, Optimal Promotion Strategy: Run a promotion\n",
      "Store ID: 2, Optimal Promotion Strategy: Run a promotion\n",
      "Store ID: 24, Optimal Promotion Strategy: Run a promotion\n",
      "Store ID: 11, Optimal Promotion Strategy: Focus on other strategies\n",
      "Store ID: 32, Optimal Promotion Strategy: Run a promotion\n",
      "Store ID: 8, Optimal Promotion Strategy: Focus on other strategies\n",
      "Store ID: 9, Optimal Promotion Strategy: Focus on other strategies\n",
      "Store ID: 23, Optimal Promotion Strategy: Run a promotion\n",
      "Store ID: 29, Optimal Promotion Strategy: Focus on other strategies\n",
      "Store ID: 25, Optimal Promotion Strategy: Run a promotion\n",
      "Store ID: 20, Optimal Promotion Strategy: Run a promotion\n",
      "Store ID: 27, Optimal Promotion Strategy: Run a promotion\n",
      "Store ID: 42, Optimal Promotion Strategy: Focus on other strategies\n",
      "Store ID: 39, Optimal Promotion Strategy: Run a promotion\n",
      "Store ID: 1, Optimal Promotion Strategy: Focus on other strategies\n",
      "Store ID: 31, Optimal Promotion Strategy: Focus on other strategies\n",
      "Store ID: 28, Optimal Promotion Strategy: Run a promotion\n"
     ]
    }
   ],
   "source": [
    "optimal_promotions = {}\n",
    "for store_id, sales_prediction in zip(X_test['Store'], sales_pred):\n",
    "    if sales_prediction > 10000:  # Example threshold for high sales\n",
    "        optimal_promotions[store_id] = \"Run a promotion\"\n",
    "    else:\n",
    "        optimal_promotions[store_id] = \"Focus on other strategies\"\n",
    "\n",
    "# Print optimal promotional strategies for each store\n",
    "for store_id, promotion_strategy in optimal_promotions.items():\n",
    "    print(f\"Store ID: {store_id}, Optimal Promotion Strategy: {promotion_strategy}\")"
   ]
  },
  {
   "cell_type": "markdown",
   "id": "b3dffab0-68d7-4441-9871-0bae61fec41c",
   "metadata": {},
   "source": [
    "## **Optimal Staffing Level**"
   ]
  },
  {
   "cell_type": "code",
   "execution_count": 9,
   "id": "e2c45f97-118a-4d13-9f6c-3933b013ccf1",
   "metadata": {
    "tags": []
   },
   "outputs": [
    {
     "name": "stdout",
     "output_type": "stream",
     "text": [
      "Store ID: 26, Optimal Staffing Level: Reduce staff levels\n",
      "Store ID: 10, Optimal Staffing Level: Reduce staff levels\n",
      "Store ID: 3, Optimal Staffing Level: Reduce staff levels\n",
      "Store ID: 30, Optimal Staffing Level: Reduce staff levels\n",
      "Store ID: 34, Optimal Staffing Level: Reduce staff levels\n",
      "Store ID: 6, Optimal Staffing Level: Maintain current staffing levels\n",
      "Store ID: 17, Optimal Staffing Level: Reduce staff levels\n",
      "Store ID: 5, Optimal Staffing Level: Reduce staff levels\n",
      "Store ID: 44, Optimal Staffing Level: Reduce staff levels\n",
      "Store ID: 13, Optimal Staffing Level: Reduce staff levels\n",
      "Store ID: 4, Optimal Staffing Level: Reduce staff levels\n",
      "Store ID: 19, Optimal Staffing Level: Increase staff levels\n",
      "Store ID: 7, Optimal Staffing Level: Reduce staff levels\n",
      "Store ID: 36, Optimal Staffing Level: Reduce staff levels\n",
      "Store ID: 18, Optimal Staffing Level: Maintain current staffing levels\n",
      "Store ID: 16, Optimal Staffing Level: Reduce staff levels\n",
      "Store ID: 14, Optimal Staffing Level: Maintain current staffing levels\n",
      "Store ID: 37, Optimal Staffing Level: Reduce staff levels\n",
      "Store ID: 35, Optimal Staffing Level: Reduce staff levels\n",
      "Store ID: 22, Optimal Staffing Level: Reduce staff levels\n",
      "Store ID: 21, Optimal Staffing Level: Reduce staff levels\n",
      "Store ID: 43, Optimal Staffing Level: Reduce staff levels\n",
      "Store ID: 15, Optimal Staffing Level: Reduce staff levels\n",
      "Store ID: 12, Optimal Staffing Level: Reduce staff levels\n",
      "Store ID: 40, Optimal Staffing Level: Reduce staff levels\n",
      "Store ID: 33, Optimal Staffing Level: Reduce staff levels\n",
      "Store ID: 45, Optimal Staffing Level: Reduce staff levels\n",
      "Store ID: 38, Optimal Staffing Level: Reduce staff levels\n",
      "Store ID: 41, Optimal Staffing Level: Reduce staff levels\n",
      "Store ID: 2, Optimal Staffing Level: Maintain current staffing levels\n",
      "Store ID: 24, Optimal Staffing Level: Reduce staff levels\n",
      "Store ID: 11, Optimal Staffing Level: Reduce staff levels\n",
      "Store ID: 32, Optimal Staffing Level: Maintain current staffing levels\n",
      "Store ID: 8, Optimal Staffing Level: Reduce staff levels\n",
      "Store ID: 9, Optimal Staffing Level: Reduce staff levels\n",
      "Store ID: 23, Optimal Staffing Level: Maintain current staffing levels\n",
      "Store ID: 29, Optimal Staffing Level: Reduce staff levels\n",
      "Store ID: 25, Optimal Staffing Level: Reduce staff levels\n",
      "Store ID: 20, Optimal Staffing Level: Increase staff levels\n",
      "Store ID: 27, Optimal Staffing Level: Reduce staff levels\n",
      "Store ID: 42, Optimal Staffing Level: Reduce staff levels\n",
      "Store ID: 39, Optimal Staffing Level: Increase staff levels\n",
      "Store ID: 1, Optimal Staffing Level: Reduce staff levels\n",
      "Store ID: 31, Optimal Staffing Level: Reduce staff levels\n",
      "Store ID: 28, Optimal Staffing Level: Maintain current staffing levels\n"
     ]
    }
   ],
   "source": [
    "optimal_staffing = {}\n",
    "for store_id, sales_prediction in zip(X_test['Store'], sales_pred):\n",
    "    if sales_prediction > 50000:  # Example threshold for high sales\n",
    "        optimal_staffing[store_id] = \"Increase staff levels\"\n",
    "    elif sales_prediction < 20000:  # Example threshold for low sales\n",
    "        optimal_staffing[store_id] = \"Reduce staff levels\"\n",
    "    else:\n",
    "        optimal_staffing[store_id] = \"Maintain current staffing levels\"\n",
    "\n",
    "# Print optimal staffing levels for each store\n",
    "for store_id, staffing_level in optimal_staffing.items():\n",
    "    print(f\"Store ID: {store_id}, Optimal Staffing Level: {staffing_level}\")"
   ]
  },
  {
   "cell_type": "markdown",
   "id": "395b66e7-f119-4c38-90aa-41636e09736e",
   "metadata": {},
   "source": [
    "## **Replenishment Decision**"
   ]
  },
  {
   "cell_type": "code",
   "execution_count": 11,
   "id": "9b276c42-e6b7-4268-8391-56161d865552",
   "metadata": {
    "tags": []
   },
   "outputs": [
    {
     "name": "stdout",
     "output_type": "stream",
     "text": [
      "Store ID: 26, Replenishment Decision: Order more inventory\n",
      "Store ID: 10, Replenishment Decision: Maintain current inventory level\n",
      "Store ID: 3, Replenishment Decision: Order more inventory\n",
      "Store ID: 30, Replenishment Decision: Reduce inventory\n",
      "Store ID: 34, Replenishment Decision: Order more inventory\n",
      "Store ID: 6, Replenishment Decision: Order more inventory\n",
      "Store ID: 17, Replenishment Decision: Maintain current inventory level\n",
      "Store ID: 5, Replenishment Decision: Reduce inventory\n",
      "Store ID: 44, Replenishment Decision: Maintain current inventory level\n",
      "Store ID: 13, Replenishment Decision: Maintain current inventory level\n",
      "Store ID: 4, Replenishment Decision: Maintain current inventory level\n",
      "Store ID: 19, Replenishment Decision: Order more inventory\n",
      "Store ID: 7, Replenishment Decision: Reduce inventory\n",
      "Store ID: 36, Replenishment Decision: Reduce inventory\n",
      "Store ID: 18, Replenishment Decision: Order more inventory\n",
      "Store ID: 16, Replenishment Decision: Order more inventory\n",
      "Store ID: 14, Replenishment Decision: Order more inventory\n",
      "Store ID: 37, Replenishment Decision: Order more inventory\n",
      "Store ID: 35, Replenishment Decision: Order more inventory\n",
      "Store ID: 22, Replenishment Decision: Maintain current inventory level\n",
      "Store ID: 21, Replenishment Decision: Order more inventory\n",
      "Store ID: 43, Replenishment Decision: Reduce inventory\n",
      "Store ID: 15, Replenishment Decision: Order more inventory\n",
      "Store ID: 12, Replenishment Decision: Order more inventory\n",
      "Store ID: 40, Replenishment Decision: Reduce inventory\n",
      "Store ID: 33, Replenishment Decision: Reduce inventory\n",
      "Store ID: 45, Replenishment Decision: Maintain current inventory level\n",
      "Store ID: 38, Replenishment Decision: Order more inventory\n",
      "Store ID: 41, Replenishment Decision: Order more inventory\n",
      "Store ID: 2, Replenishment Decision: Order more inventory\n",
      "Store ID: 24, Replenishment Decision: Order more inventory\n",
      "Store ID: 11, Replenishment Decision: Order more inventory\n",
      "Store ID: 32, Replenishment Decision: Order more inventory\n",
      "Store ID: 8, Replenishment Decision: Order more inventory\n",
      "Store ID: 9, Replenishment Decision: Order more inventory\n",
      "Store ID: 23, Replenishment Decision: Order more inventory\n",
      "Store ID: 29, Replenishment Decision: Reduce inventory\n",
      "Store ID: 25, Replenishment Decision: Order more inventory\n",
      "Store ID: 20, Replenishment Decision: Order more inventory\n",
      "Store ID: 27, Replenishment Decision: Order more inventory\n",
      "Store ID: 42, Replenishment Decision: Reduce inventory\n",
      "Store ID: 39, Replenishment Decision: Order more inventory\n",
      "Store ID: 1, Replenishment Decision: Maintain current inventory level\n",
      "Store ID: 31, Replenishment Decision: Maintain current inventory level\n",
      "Store ID: 28, Replenishment Decision: Order more inventory\n"
     ]
    }
   ],
   "source": [
    "optimal_replenishment = {}\n",
    "for product_id, sales_prediction in zip(X_test['Store'], sales_pred):\n",
    "    if sales_prediction > 5000:  # Example threshold for high predicted sales\n",
    "        optimal_replenishment[product_id] = \"Order more inventory\"\n",
    "    elif sales_prediction < 1000:  # Example threshold for low predicted sales\n",
    "        optimal_replenishment[product_id] = \"Reduce inventory\"\n",
    "    else:\n",
    "        optimal_replenishment[product_id] = \"Maintain current inventory level\"\n",
    "\n",
    "# Print optimal inventory replenishment decisions for each product\n",
    "for product_id, replenishment_decision in optimal_replenishment.items():\n",
    "    print(f\"Store ID: {product_id}, Replenishment Decision: {replenishment_decision}\")"
   ]
  },
  {
   "cell_type": "markdown",
   "id": "6ba7a3f9-a474-4cde-a9dc-93f6968640bd",
   "metadata": {},
   "source": [
    "## **Assortment Decision**"
   ]
  },
  {
   "cell_type": "code",
   "execution_count": 14,
   "id": "fa10a823-aff7-42b9-873c-14619263361a",
   "metadata": {
    "tags": []
   },
   "outputs": [
    {
     "name": "stdout",
     "output_type": "stream",
     "text": [
      "Dept: 23, Assortment Decision: Reduce variety and focus on best-sellers\n",
      "Dept: 27, Assortment Decision: Adjust assortment based on customer preferences\n",
      "Dept: 60, Assortment Decision: Reduce variety and focus on best-sellers\n",
      "Dept: 85, Assortment Decision: Reduce variety and focus on best-sellers\n",
      "Dept: 24, Assortment Decision: Expand product offerings\n",
      "Dept: 29, Assortment Decision: Adjust assortment based on customer preferences\n",
      "Dept: 46, Assortment Decision: Expand product offerings\n",
      "Dept: 32, Assortment Decision: Adjust assortment based on customer preferences\n",
      "Dept: 95, Assortment Decision: Expand product offerings\n",
      "Dept: 8, Assortment Decision: Expand product offerings\n",
      "Dept: 98, Assortment Decision: Expand product offerings\n",
      "Dept: 58, Assortment Decision: Adjust assortment based on customer preferences\n",
      "Dept: 48, Assortment Decision: Adjust assortment based on customer preferences\n",
      "Dept: 11, Assortment Decision: Expand product offerings\n",
      "Dept: 49, Assortment Decision: Expand product offerings\n",
      "Dept: 93, Assortment Decision: Expand product offerings\n",
      "Dept: 30, Assortment Decision: Expand product offerings\n",
      "Dept: 4, Assortment Decision: Expand product offerings\n",
      "Dept: 79, Assortment Decision: Expand product offerings\n",
      "Dept: 2, Assortment Decision: Expand product offerings\n",
      "Dept: 72, Assortment Decision: Reduce variety and focus on best-sellers\n",
      "Dept: 21, Assortment Decision: Adjust assortment based on customer preferences\n",
      "Dept: 3, Assortment Decision: Reduce variety and focus on best-sellers\n",
      "Dept: 92, Assortment Decision: Expand product offerings\n",
      "Dept: 82, Assortment Decision: Expand product offerings\n",
      "Dept: 12, Assortment Decision: Expand product offerings\n",
      "Dept: 52, Assortment Decision: Adjust assortment based on customer preferences\n",
      "Dept: 10, Assortment Decision: Expand product offerings\n",
      "Dept: 31, Assortment Decision: Adjust assortment based on customer preferences\n",
      "Dept: 42, Assortment Decision: Adjust assortment based on customer preferences\n",
      "Dept: 44, Assortment Decision: Adjust assortment based on customer preferences\n",
      "Dept: 91, Assortment Decision: Expand product offerings\n",
      "Dept: 26, Assortment Decision: Adjust assortment based on customer preferences\n",
      "Dept: 16, Assortment Decision: Reduce variety and focus on best-sellers\n",
      "Dept: 1, Assortment Decision: Expand product offerings\n",
      "Dept: 35, Assortment Decision: Reduce variety and focus on best-sellers\n",
      "Dept: 55, Assortment Decision: Expand product offerings\n",
      "Dept: 40, Assortment Decision: Expand product offerings\n",
      "Dept: 17, Assortment Decision: Reduce variety and focus on best-sellers\n",
      "Dept: 6, Assortment Decision: Adjust assortment based on customer preferences\n",
      "Dept: 28, Assortment Decision: Reduce variety and focus on best-sellers\n",
      "Dept: 71, Assortment Decision: Adjust assortment based on customer preferences\n",
      "Dept: 20, Assortment Decision: Reduce variety and focus on best-sellers\n",
      "Dept: 59, Assortment Decision: Adjust assortment based on customer preferences\n",
      "Dept: 22, Assortment Decision: Expand product offerings\n",
      "Dept: 34, Assortment Decision: Expand product offerings\n",
      "Dept: 41, Assortment Decision: Reduce variety and focus on best-sellers\n",
      "Dept: 74, Assortment Decision: Reduce variety and focus on best-sellers\n",
      "Dept: 94, Assortment Decision: Expand product offerings\n",
      "Dept: 67, Assortment Decision: Adjust assortment based on customer preferences\n",
      "Dept: 80, Assortment Decision: Expand product offerings\n",
      "Dept: 36, Assortment Decision: Adjust assortment based on customer preferences\n",
      "Dept: 97, Assortment Decision: Expand product offerings\n",
      "Dept: 14, Assortment Decision: Expand product offerings\n",
      "Dept: 81, Assortment Decision: Adjust assortment based on customer preferences\n",
      "Dept: 33, Assortment Decision: Adjust assortment based on customer preferences\n",
      "Dept: 50, Assortment Decision: Adjust assortment based on customer preferences\n",
      "Dept: 37, Assortment Decision: Adjust assortment based on customer preferences\n",
      "Dept: 87, Assortment Decision: Expand product offerings\n",
      "Dept: 90, Assortment Decision: Expand product offerings\n",
      "Dept: 56, Assortment Decision: Reduce variety and focus on best-sellers\n",
      "Dept: 83, Assortment Decision: Expand product offerings\n",
      "Dept: 7, Assortment Decision: Expand product offerings\n",
      "Dept: 25, Assortment Decision: Expand product offerings\n",
      "Dept: 38, Assortment Decision: Expand product offerings\n",
      "Dept: 9, Assortment Decision: Expand product offerings\n",
      "Dept: 96, Assortment Decision: Adjust assortment based on customer preferences\n",
      "Dept: 5, Assortment Decision: Reduce variety and focus on best-sellers\n",
      "Dept: 54, Assortment Decision: Reduce variety and focus on best-sellers\n",
      "Dept: 19, Assortment Decision: Adjust assortment based on customer preferences\n",
      "Dept: 18, Assortment Decision: Adjust assortment based on customer preferences\n",
      "Dept: 51, Assortment Decision: Reduce variety and focus on best-sellers\n",
      "Dept: 45, Assortment Decision: Reduce variety and focus on best-sellers\n",
      "Dept: 47, Assortment Decision: Reduce variety and focus on best-sellers\n",
      "Dept: 13, Assortment Decision: Expand product offerings\n",
      "Dept: 99, Assortment Decision: Adjust assortment based on customer preferences\n",
      "Dept: 78, Assortment Decision: Reduce variety and focus on best-sellers\n",
      "Dept: 65, Assortment Decision: Expand product offerings\n",
      "Dept: 77, Assortment Decision: Reduce variety and focus on best-sellers\n",
      "Dept: 39, Assortment Decision: Reduce variety and focus on best-sellers\n"
     ]
    }
   ],
   "source": [
    "optimal_assortment = {}\n",
    "for product_category, sales_prediction in zip(X_test['Dept'], sales_pred):\n",
    "    if sales_prediction > 5000:  # Example threshold for high predicted sales\n",
    "        optimal_assortment[product_category] = \"Expand product offerings\"\n",
    "    elif sales_prediction < 1000:  # Example threshold for low predicted sales\n",
    "        optimal_assortment[product_category] = \"Reduce variety and focus on best-sellers\"\n",
    "    else:\n",
    "        optimal_assortment[product_category] = \"Adjust assortment based on customer preferences\"\n",
    "\n",
    "# Print optimal product assortment decisions for each product category\n",
    "for product_category, assortment_decision in optimal_assortment.items():\n",
    "    print(f\"Dept: {product_category}, Assortment Decision: {assortment_decision}\")"
   ]
  }
 ],
 "metadata": {
  "kernelspec": {
   "display_name": "Python 3 (ipykernel)",
   "language": "python",
   "name": "python3"
  },
  "language_info": {
   "codemirror_mode": {
    "name": "ipython",
    "version": 3
   },
   "file_extension": ".py",
   "mimetype": "text/x-python",
   "name": "python",
   "nbconvert_exporter": "python",
   "pygments_lexer": "ipython3",
   "version": "3.11.2"
  }
 },
 "nbformat": 4,
 "nbformat_minor": 5
}
